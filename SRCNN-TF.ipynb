{
  "cells": [
    {
      "cell_type": "markdown",
      "metadata": {
        "colab_type": "text",
        "id": "view-in-github"
      },
      "source": [
        "<a href=\"https://colab.research.google.com/github/Nhat-Thanh/SRCNN-TF/blob/main/SRCNN-TF.ipynb\" target=\"_parent\"><img src=\"https://colab.research.google.com/assets/colab-badge.svg\" alt=\"Open In Colab\"/></a>"
      ]
    },
    {
      "cell_type": "markdown",
      "metadata": {
        "id": "BSIOX9FkHia1"
      },
      "source": [
        "# **Mount drive**"
      ]
    },
    {
      "cell_type": "code",
      "execution_count": null,
      "metadata": {
        "id": "yCloRCJUo4ID"
      },
      "outputs": [],
      "source": [
        "from google.colab import drive\n",
        "drive.mount('/content/drive')"
      ]
    },
    {
      "cell_type": "markdown",
      "metadata": {
        "id": "0qFuIBWYtEA-"
      },
      "source": [
        "# **Train**"
      ]
    },
    {
      "cell_type": "code",
      "execution_count": null,
      "metadata": {
        "id": "LcU9BP0LoZ6y"
      },
      "outputs": [],
      "source": [
        "!git clone https://github.com/Nhat-Thanh/SRCNN-TF.git"
      ]
    },
    {
      "cell_type": "code",
      "execution_count": null,
      "metadata": {
        "id": "aCxs66QIs9JU"
      },
      "outputs": [],
      "source": [
        "%cd /content/SRCNN-TF/"
      ]
    },
    {
      "cell_type": "code",
      "execution_count": null,
      "metadata": {
        "id": "bcFmW-Z2xpt8"
      },
      "outputs": [],
      "source": [
        "!git pull"
      ]
    },
    {
      "cell_type": "code",
      "execution_count": null,
      "metadata": {
        "id": "E6ekTfh-ol5A"
      },
      "outputs": [],
      "source": [
        "\n",
        "# train SRCNN-915 model\n",
        "!rm -rf dataset/*.npy\n",
        "!python train.py  --steps=200000                    \\\n",
        "                  --architecture=\"915\"              \\\n",
        "                  --batch_size=128                  \\\n",
        "                  --save-best-only=1                \\\n",
        "                  --save-every=1000                 \\\n",
        "                  --save-log=0                      \\\n",
        "                  --ckpt-dir=\"checkpoint/SRCNN915\"  "
      ]
    },
    {
      "cell_type": "code",
      "execution_count": null,
      "metadata": {
        "id": "c4ubd8IMmaXf"
      },
      "outputs": [],
      "source": [
        "# train SRCNN-935 model\n",
        "!rm -rf dataset/*.npy\n",
        "!python train.py  --steps=200000                    \\\n",
        "                  --architecture=\"935\"              \\\n",
        "                  --batch_size=128                  \\\n",
        "                  --save-best-only=1                \\\n",
        "                  --save-every=1000                 \\\n",
        "                  --save-log=0                      \\\n",
        "                  --ckpt-dir=\"checkpoint/SRCNN935\"  "
      ]
    },
    {
      "cell_type": "code",
      "execution_count": null,
      "metadata": {
        "id": "B02vpuGFmamT"
      },
      "outputs": [],
      "source": [
        "# train SRCNN-955 model\n",
        "!rm -rf dataset/*.npy\n",
        "!python train.py  --steps=200000                    \\\n",
        "                  --architecture=\"955\"              \\\n",
        "                  --batch_size=128                  \\\n",
        "                  --save-best-only=1                \\\n",
        "                  --save-every=1000                 \\\n",
        "                  --save-log=0                      \\\n",
        "                  --ckpt-dir=\"checkpoint/SRCNN955\"  "
      ]
    },
    {
      "cell_type": "markdown",
      "metadata": {},
      "source": [
        "# **Test**"
      ]
    },
    {
      "cell_type": "code",
      "execution_count": null,
      "metadata": {},
      "outputs": [],
      "source": [
        "# Test on Set5\n",
        "!python test.py --scale=2 --architecture=915 --ckpt-path=\"default\"\n",
        "!python test.py --scale=3 --architecture=915 --ckpt-path=\"default\"\n",
        "!python test.py --scale=4 --architecture=915 --ckpt-path=\"default\""
      ]
    },
    {
      "cell_type": "markdown",
      "metadata": {
        "id": "HNMxCqEnIm5B"
      },
      "source": [
        "# **Demo**"
      ]
    },
    {
      "cell_type": "code",
      "execution_count": null,
      "metadata": {
        "id": "6LEod8iiyE2t"
      },
      "outputs": [],
      "source": [
        "!python demo.py --image-path=\"dataset/test1.png\" \\\n",
        "                --architecture=\"915\"             \\\n",
        "                --ckpt-path=\"default\"            \\\n",
        "                --scale=2"
      ]
    },
    {
      "cell_type": "markdown",
      "metadata": {
        "id": "mXR3GIR_RumX"
      },
      "source": [
        "# **Dataset files**"
      ]
    },
    {
      "cell_type": "code",
      "execution_count": null,
      "metadata": {
        "id": "Y5PICMo-ThER"
      },
      "outputs": [],
      "source": [
        "%%writefile dataset-files.sh\n",
        "\n",
        "OPTION=$1\n",
        "DATASET_DIR=\"/content/SRCNN-TF/dataset\"\n",
        "DRIVE_DIR=\"/content/drive/MyDrive/SRCNN-TF\"\n",
        "SUBSETS=(\"train\" \"validation\" \"test\")\n",
        "TYPE=(\"data\" \"labels\")\n",
        "\n",
        "mkdir -p ${DRIVE_DIR}\n",
        "for type in ${TYPE[*]}; do\n",
        "    for subset in ${SUBSETS[*]}; do\n",
        "        # copy all generated dataset files to your drive\n",
        "        if [ \"$OPTION\" == \"copy to drive\" ]; then\n",
        "            cp -vf ${DATASET_DIR}/${type}_${subset}.npy ${DRIVE_DIR}\n",
        "\n",
        "        # copy all saved dataset files from your drive to dataset directory\n",
        "        elif [ \"$OPTION\" == \"copy from drive\" ]; then\n",
        "            cp -vf ${DRIVE_DIR}/${type}_${subset}.npy   ${DATASET_DIR}\n",
        "        \n",
        "        # delete all generated dataset files in dataset directory\n",
        "        elif [ \"${OPTION}\" == \"remove\" ]; then\n",
        "            rm -vf ${DATASET_DIR}/${type}_${subset}.npy\n",
        "        fi\n",
        "    done\n",
        "done"
      ]
    },
    {
      "cell_type": "code",
      "execution_count": null,
      "metadata": {
        "id": "1n2cLVMYUDx3"
      },
      "outputs": [],
      "source": [
        "# !bash dataset-files.sh \"copy to drive\"\n",
        "# !bash dataset-files.sh \"copy from drive\"\n",
        "# !bash dataset-files.sh \"remove\""
      ]
    },
    {
      "cell_type": "markdown",
      "metadata": {
        "id": "APDYH1_F6Rum"
      },
      "source": [
        "# **Checkpoint**"
      ]
    },
    {
      "cell_type": "code",
      "execution_count": null,
      "metadata": {
        "id": "UJu5zeBgtdDL"
      },
      "outputs": [],
      "source": [
        "%%writefile ckpt.sh\n",
        "OPTION=$1\n",
        "\n",
        "DRIVE_DIR=\"/content/drive/MyDrive/SRCNN-TF\"\n",
        "SRC=\"/content/SRCNN-TF/checkpoint\"\n",
        "DES=\"${DRIVE_DIR}/checkpoint\"\n",
        "SUBSETS=(\"SRCNN915\" \"SRCNN935\" \"SRCNN955\")\n",
        "\n",
        "mkdir -p ${DRIVE_DIR}\n",
        "for subset in ${SUBSETS[*]}; do\n",
        "    # remove all checkpoint files in sub-directories in checkpoint directory\n",
        "    if [ \"${OPTION}\" == \"remove\" ]; then\n",
        "        rm -vrf ${SRC}/${subset}\n",
        "        mkdir -p ${SRC}/${subset}\n",
        "\n",
        "    # copy all checkpoint directories to your drive\n",
        "    elif [ \"${OPTION}\" == \"copy to drive\" ]; then\n",
        "        mkdir -p ${DES}\n",
        "        mkdir -p ${DES}/${subset}\n",
        "        cp -vrf ${SRC}/${subset}/. ${DES}/${subset}\n",
        "\n",
        "    # copy all saved checkpoint files from your drive to checkpoint directory\n",
        "    elif [ \"${OPTION}\" == \"copy from drive\" ]; then\n",
        "        mkdir -p ${SRC}\n",
        "        mkdir -p ${SRC}/${subset}\n",
        "        cp -vrf ${DES}/${subset}/. ${SRC}/${subset}\n",
        "    fi\n",
        "\n",
        "done"
      ]
    },
    {
      "cell_type": "code",
      "execution_count": null,
      "metadata": {
        "id": "K3r9vXdj2pE3"
      },
      "outputs": [],
      "source": [
        "# !bash ckpt.sh \"copy from drive\"\n",
        "# !bash ckpt.sh \"copy to drive\"\n",
        "# !bash ckpt.sh \"remove\""
      ]
    }
  ],
  "metadata": {
    "accelerator": "GPU",
    "colab": {
      "authorship_tag": "ABX9TyM8JPlu1HB8rzgigjIFzXvt",
      "collapsed_sections": [],
      "include_colab_link": true,
      "name": "SRCNN-TF.ipynb",
      "provenance": []
    },
    "kernelspec": {
      "display_name": "Python 3",
      "name": "python3"
    },
    "language_info": {
      "name": "python"
    }
  },
  "nbformat": 4,
  "nbformat_minor": 0
}
